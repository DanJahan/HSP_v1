{
 "cells": [
  {
   "cell_type": "code",
   "execution_count": 9,
   "id": "8dfd426d-61c7-4c58-b936-4b75f9001e98",
   "metadata": {},
   "outputs": [],
   "source": [
    "import numpy as np\n",
    "\n",
    "def get_param():\n",
    "    prompt_dD = \"Enter your dD parameter: \\n\"\n",
    "    dD = float(input(prompt_dD))\n",
    "    \n",
    "    prompt_dP = \"Enter your dP parameter: \\n\"\n",
    "    dP = float(input(prompt_dP))\n",
    "    \n",
    "    prompt_dH = \"Enter your dH parameter: \\n\"\n",
    "    dH = float(input(prompt_dH))\n",
    "    \n",
    "    return np.array([dD, dP, dH])\n",
    "    \n"
   ]
  },
  {
   "cell_type": "code",
   "execution_count": 11,
   "id": "52bb0ecf-6d7a-45f2-923a-838633da2f2d",
   "metadata": {},
   "outputs": [
    {
     "name": "stdin",
     "output_type": "stream",
     "text": [
      "Enter your dD parameter: \n",
      " 13.4\n",
      "Enter your dP parameter: \n",
      " 12.1\n",
      "Enter your dH parameter: \n",
      " 9.9\n"
     ]
    },
    {
     "name": "stdout",
     "output_type": "stream",
     "text": [
      "[13.4 12.1  9.9]\n"
     ]
    }
   ],
   "source": [
    "print(get_param())"
   ]
  },
  {
   "cell_type": "code",
   "execution_count": 14,
   "id": "ba0d3003-ea99-4a4f-8973-0966bc70bbe9",
   "metadata": {},
   "outputs": [],
   "source": [
    "def get_mode():\n",
    "    \"\"\"Get solvent modes.\"\"\"\n",
    "    prompt_max_sols = \"Enter Maximum of solvents in your blends: \\n\"\n",
    "    MaxSols = int(input(prompt_max_sols))\n",
    "    \n",
    "    prompt_tol_param = \"Enter Paramter Tolerance: \\n\"\n",
    "    TolParam = float(input(prompt_tol_param))\n",
    "    \n",
    "    prompt_run_mode = \"Enter your run Mode: \\n\"\n",
    "    runMode = int(input(prompt_run_mode))\n",
    "    \n",
    "    return [MaxSols, TolParam, runMode]"
   ]
  },
  {
   "cell_type": "code",
   "execution_count": 19,
   "id": "4a5c54dc-89f0-4275-9567-eb7516b90e5e",
   "metadata": {},
   "outputs": [
    {
     "name": "stdin",
     "output_type": "stream",
     "text": [
      "Enter Maximum of solvents in your blends: \n",
      " 4\n",
      "Enter Paramter Tolerance: \n",
      " .5\n",
      "Enter your run Mode:  1\n"
     ]
    },
    {
     "name": "stdout",
     "output_type": "stream",
     "text": [
      "4\n"
     ]
    }
   ],
   "source": [
    "# [x,y,z] = get_mode()\n",
    "x = get_mode()[0]\n",
    "print(x)"
   ]
  }
 ],
 "metadata": {
  "kernelspec": {
   "display_name": "Python 3",
   "language": "python",
   "name": "python3"
  },
  "language_info": {
   "codemirror_mode": {
    "name": "ipython",
    "version": 3
   },
   "file_extension": ".py",
   "mimetype": "text/x-python",
   "name": "python",
   "nbconvert_exporter": "python",
   "pygments_lexer": "ipython3",
   "version": "3.9.7"
  }
 },
 "nbformat": 4,
 "nbformat_minor": 5
}
